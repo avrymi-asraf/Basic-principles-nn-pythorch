{
 "cells": [
  {
   "attachments": {},
   "cell_type": "markdown",
   "metadata": {
    "id": "HCzIW-PUQ31N"
   },
   "source": [
    "<div dir=\"rtl\" lang=\"he\" xml:lang=\"he\">\n",
    "\n",
    "\n",
    "# אימון מודל ליניארי\n",
    "\n",
    "\n",
    "add data from \n"
   ]
  },
  {
   "cell_type": "code",
   "execution_count": null,
   "metadata": {
    "colab": {
     "base_uri": "https://localhost:8080/"
    },
    "executionInfo": {
     "elapsed": 4347,
     "status": "ok",
     "timestamp": 1677347008586,
     "user": {
      "displayName": "Avreymi Asraf",
      "userId": "16756496936831521102"
     },
     "user_tz": -120
    },
    "id": "BXoI-Qn42Iah",
    "outputId": "3a772528-f691-429d-f824-f7a5f59d8740",
    "tags": []
   },
   "outputs": [],
   "source": [
    "#@markdown Import libraries\n",
    "# %pip install torchviz\n",
    "from torch import nn , optim\n",
    "import torch\n",
    "import matplotlib.pyplot as plt\n",
    "from torchviz import make_dot\n",
    "\n",
    "from typing import Callable,List,Tuple\n",
    "from torch import Tensor\n",
    "from torch.nn import Module\n",
    "%matplotlib widget"
   ]
  },
  {
   "cell_type": "code",
   "execution_count": null,
   "metadata": {
    "id": "CXlPfbYmGNZy"
   },
   "outputs": [],
   "source": [
    "#@title plot functoins\n",
    "#@markdown The functions are only intended to show the progress of the model\n",
    "def plot_model(model,input_data,target,loss_function=None,list_loss=None):\n",
    "  \"\"\"\n",
    "  evaluate input by model and print it\n",
    "  model:one linear model\n",
    "  input_data: (*,1) tnesor\n",
    "  target: (*,1) tnesor\n",
    "  loss_function: loss function\n",
    "  list_loss: list of prives loss to plot it\n",
    "  \"\"\"\n",
    "  y = model(input_data)      # to plot it we need change output to regular tensor\n",
    "  W,b = None,None\n",
    "  if type(model)==nn.Linear:\n",
    "    W = model.weight.data.tolist()   #get W and b as float\n",
    "    b = model.bias.data.item()\n",
    "\n",
    "  fig, (ax1,ax2) = plt.subplots(1,2,figsize=(10, 2.7))\n",
    "  ax1.scatter(input_data,target, label='Y')\n",
    "  ax1.plot(input_data,y.detach(), label=f'{W=},{b=:.3f}')\n",
    "  ax1.legend()\n",
    "  \n",
    "  if list_loss is not None and loss_function:\n",
    "    list_loss.append(loss_function(y,target).item())\n",
    "    x_loss = range(len(list_loss))\n",
    "    ax2.plot(x_loss,list_loss,label=f'{list_loss[-1]}')\n",
    "    ax2.legend()\n",
    "  fig.show()\n",
    "\n",
    "def plot_3d_model(model,input_data,target,loss_function=None,list_loss=None):\n",
    "  \"\"\"\n",
    "  evaluate input by model and print it\n",
    "  model:one linear model\n",
    "  input_data: (*,2) tnesor\n",
    "  target: (*,1) tnesor\n",
    "  loss_function: loss function\n",
    "  list_loss: list of prives loss to plot it\n",
    "  \"\"\"\n",
    "  x_grid,y_grid = torch.meshgrid(*input_data.T,indexing =\"xy\")\n",
    "  pairs = torch.cartesian_prod(*input_data.T)\n",
    "  out = model(pairs).detach()\n",
    "  z_grid = out.view(x_grid.shape)\n",
    "\n",
    "\n",
    "\n",
    "\n",
    "  fig = plt.figure(figsize=(15, 7))\n",
    "  ax1,ax2 = fig.add_subplot(1, 2, 1, projection='3d'),fig.add_subplot(1, 2, 2)\n",
    "\n",
    "  ax1.set_ylim(0,15)\n",
    "  ax1.set_xlim(0,15)\n",
    "  ax1.set_zlim(0,15)\n",
    " \n",
    "\n",
    "  ax1.scatter(*input_data.T,target, label='Y',color=\"green\")\n",
    "  ax1.plot_surface(x_grid,y_grid,z_grid)\n",
    "  ax1.legend()\n",
    "  \n",
    "  if list_loss is not None and loss_function:\n",
    "    list_loss.append(loss_function(y,target).item())\n",
    "    x_loss = range(len(list_loss))\n",
    "    xlim = max(len(list_loss),10)\n",
    "    ylim = max(max(list_loss),10)\n",
    "    ax2.set_xlim(0,xlim)\n",
    "    ax2.set_ylim(0,ylim)\n",
    "    ax2.plot(x_loss,list_loss,label=f'{list_loss[-1]}')\n",
    "    ax2.legend()\n",
    "  fig.show()\n",
    "\n",
    "def ploter(plot_func,model,x,target,loss_function,op_list_loss=None):\n",
    "  loss = [] if op_list_loss is None else op_list_loss\n",
    "  def f(op_loss=None):\n",
    "    plot_func(model,x,target,loss_function,loss)\n",
    "  return f\n"
   ]
  },
  {
   "cell_type": "markdown",
   "metadata": {
    "id": "BWUf1yD3oP09"
   },
   "source": [
    "<div dir=\"rtl\" lang=\"he\" xml:lang=\"he\">\n",
    "\n",
    "# שיכבה לינארית של סקלר\n",
    "שיכבה ליניארית של סקלר היא משוואה ישר פשוטה, נוכל לראות כיצד המודל שלנו מתקרב למשווה של הישר הזה. \n",
    "\n"
   ]
  },
  {
   "cell_type": "markdown",
   "metadata": {
    "id": "HdxBJhFBJ-ES"
   },
   "source": [
    "<div dir=\"rtl\" lang=\"he\" xml:lang=\"he\">\n",
    "\n",
    "## יצירת השיכבה"
   ]
  },
  {
   "cell_type": "code",
   "execution_count": null,
   "metadata": {
    "id": "getsF5Mw2mE1"
   },
   "outputs": [],
   "source": [
    "linear = nn.Linear(1,1)\n",
    "x = torch.rand(3,1)*10\n",
    "print(f'''\n",
    "{x=},\n",
    "{linear(x)=}\n",
    "''')"
   ]
  },
  {
   "cell_type": "code",
   "execution_count": null,
   "metadata": {
    "id": "XXkj8G_I3lWT"
   },
   "outputs": [],
   "source": [
    "W = linear.weight.data\n",
    "b = linear.bias.data\n",
    "print(f'''\n",
    "{x=},\n",
    "{W=},\n",
    "{b=},\n",
    "{x@W.T=},\n",
    "{x@W.T+b=},\n",
    "''')"
   ]
  },
  {
   "cell_type": "markdown",
   "metadata": {
    "id": "ZwG6S0oAJ4Rv"
   },
   "source": [
    "<div dir=\"rtl\" lang=\"he\" xml:lang=\"he\">\n",
    "\n",
    "## אימון המודל\n",
    "בשביל לבדוק את המודל, נקח את הפונקציה הפשוטה ביותר - \n",
    "$f(x)=x$\n",
    "ונרעיש אותה קצת. נראה האם המודל שלנו יצליח להתקרב מספיק למשוואה הנדרשת \n",
    " "
   ]
  },
  {
   "cell_type": "code",
   "execution_count": null,
   "metadata": {
    "id": "AxSG1xzs7ao0"
   },
   "outputs": [],
   "source": [
    "x = torch.arange(1,11,dtype=torch.float32 ).unsqueeze_(1)\n",
    "target = torch.empty(10,1).uniform_(-1,1)+x\n",
    "linear = nn.Linear(1,1)\n",
    "plot_model(linear,x,target)"
   ]
  },
  {
   "cell_type": "code",
   "execution_count": null,
   "metadata": {
    "id": "s2QwYgLO4Cns"
   },
   "outputs": [],
   "source": [
    "loss_function = nn.MSELoss()\n",
    "optimazer = optim.SGD(linear.parameters(),0.001)\n",
    "f_plot = ploter(plot_model,linear,x,target,loss_function)"
   ]
  },
  {
   "cell_type": "code",
   "execution_count": null,
   "metadata": {
    "id": "ciRMa-XCK5dT"
   },
   "outputs": [],
   "source": [
    "for i in range(1000):\n",
    "  y = linear(x)\n",
    "  diff = loss_function(y,target)\n",
    "  diff.backward()\n",
    "  optimazer.step()\n",
    "  if i %100==0:\n",
    "    f_plot()"
   ]
  },
  {
   "cell_type": "markdown",
   "metadata": {
    "id": "loCDIbkbNVEl"
   },
   "source": [
    "<div dir=\"rtl\" lang=\"he\" xml:lang=\"he\">\n",
    "\n",
    "# מודל שמקבל בשני מימדים\n",
    "כעת נוכל לבנות מודל טפה יותר מורכב, שמקבל וקטור בגודל 2.\n",
    "גם פה נקח את הקורדינטות על הקו ונרעיש אותם קצת. כמה מהר המודל יצליח להתקרב מספיק למשוואה?\n"
   ]
  },
  {
   "cell_type": "code",
   "execution_count": null,
   "metadata": {
    "id": "9FlYMZj2NZlY"
   },
   "outputs": [],
   "source": [
    "class Model(nn.Module):\n",
    "  def __init__(self):\n",
    "    super().__init__()\n",
    "    self.f1 = nn.Linear(2,1)\n",
    "  def __call__(self,x):\n",
    "    return self.f1(x)\n",
    "  \n",
    "model = Model()\n",
    "loss_function = nn.MSELoss()\n",
    "optimazer = optim.SGD(model.parameters(),0.000001)"
   ]
  },
  {
   "cell_type": "markdown",
   "metadata": {
    "id": "uvtgtj-8-PFU"
   },
   "source": [
    "<div dir=\"rtl\" lang=\"he\" xml:lang=\"he\">\n",
    "\n",
    "### יצירת דאטה\n",
    "כמו בדוגמה הקודמת, ניצור דאטה פשוט. שהפונקציה היוצרת אותו היא מטריצת היחידה. \n",
    "נרעיש מעט את המידע שיש לנו, ונראה האם המודל מצליח לקרב את הפונקציה שלנו"
   ]
  },
  {
   "cell_type": "code",
   "execution_count": null,
   "metadata": {
    "colab": {
     "base_uri": "https://localhost:8080/",
     "height": 432
    },
    "executionInfo": {
     "elapsed": 5,
     "status": "ok",
     "timestamp": 1677347107032,
     "user": {
      "displayName": "Avreymi Asraf",
      "userId": "16756496936831521102"
     },
     "user_tz": -120
    },
    "id": "cgVs0-iYNxmt",
    "outputId": "54288a29-cc9e-4d4a-c945-b081507c8e07"
   },
   "outputs": [],
   "source": [
    "coordint =torch.arange(1,11,dtype=torch.float32 ).unsqueeze_(1)\n",
    "target = torch.empty(10,1).uniform_(-1,1) + coordint\n",
    "input_data = torch.cat([coordint,coordint],1)\n",
    "plot_3d_model(model,input_data,target)"
   ]
  },
  {
   "cell_type": "code",
   "execution_count": null,
   "metadata": {
    "id": "N0Qb-v2lIpnQ"
   },
   "outputs": [],
   "source": [
    "loss_list = []\n",
    "f_plot = ploter(plot_3d_model,model,input_data,target,loss_function,loss_list)\n",
    "\n",
    "for i in range(100):\n",
    "  y = model(input_data)\n",
    "  diff = loss_function(y,target)\n",
    "  loss_list.append(diff.item())\n",
    "  diff.backward()\n",
    "  optimazer.step()\n",
    "  if i %10==0:\n",
    "    f_plot()"
   ]
  },
  {
   "cell_type": "code",
   "execution_count": null,
   "metadata": {
    "id": "DqJLPUYnpPSH"
   },
   "outputs": [],
   "source": []
  },
  {
   "cell_type": "markdown",
   "metadata": {
    "id": "Z-GEdg36yjY9"
   },
   "source": [
    "<div dir=\"rtl\" lang=\"he\" xml:lang=\"he\">\n",
    "\n",
    "## השוואת פונקציות אופטימיזציה ופונקציות עלות\n",
    "ניתן לראות במודל הקודם שתהליך הלמידה פה לא מתכנס, הוא נע בגלים ולא מגיע לתוצאה רצויה. נשווה בן כמה אופימזרים שיש, בשביל להבין מי מהם יותר טוב. "
   ]
  },
  {
   "attachments": {},
   "cell_type": "markdown",
   "metadata": {
    "id": "mTlpnOJGzVvp"
   },
   "source": [
    "<div dir=\"rtl\" lang=\"he\" xml:lang=\"he\">\n",
    "\n",
    "\n",
    "המבנה יהיה כזה:\n",
    "ניצור 3 מודלים שונים, אחד פשוט של זיהוי תמונה, אחד של עיבוד טקסט ואת המודל הפשוט שלנו. לכל אחד מהם נתאים 3 אפשרויות לפונקציות אופטימיזציה, ונראה איך כל טכניקת אופטימיזציה מצליחה לגרום להתכנסות\n",
    "\n",
    "בשביל שנוכל לבדוק בקלות את המודלים השונים, ניצור מחלקה חדשה `ModelTrainer`.\n",
    "היא תכיל את המודל ואת פונקציית האימון שלו"
   ]
  },
  {
   "cell_type": "code",
   "execution_count": null,
   "metadata": {},
   "outputs": [],
   "source": [
    "from torch import nn, Tensor\n",
    "from torch.nn import Module\n",
    "from typing import Callable, List, Tuple\n",
    "\n",
    "LossFucntionType = Callable[[Tensor, Tensor], Tensor]\n",
    "OptimazerType = Callable[[], None]\n",
    "DataType = Tuple[Tensor, Tensor]\n",
    "ParametersType = Tuple[List[float], float] \n",
    "GetParaetersType = Callable[[],parametersType]\n"
   ]
  },
  {
   "cell_type": "code",
   "execution_count": null,
   "metadata": {
    "id": "iVXWM-_R13ax"
   },
   "outputs": [],
   "source": [
    "DATA = 0\n",
    "LEABL = 1\n",
    "\n",
    "\n",
    "class ModelTrainer:\n",
    "    def __init__(\n",
    "        self,\n",
    "        model: Module,\n",
    "        data: DataType,\n",
    "        loss_function: LossFucntionType,\n",
    "        optimizer: OptimazerType,\n",
    "        get_parameters: GetParaetersType,\n",
    "    ):\n",
    "        self.model = model\n",
    "        self.data = data\n",
    "        self.loss_function = loss_function\n",
    "        self.optimizer = optimizer\n",
    "        self.get_parameters = get_parameters\n",
    "        self.len_data: int = len(data[DATA])\n",
    "        self.counter: int = 0\n",
    "        self.loss_list: List[float] = []\n",
    "\n",
    "    def step(self, num_steps: int = 1)->None:\n",
    "        for i in range(num_steps):\n",
    "            input_data = self.data[DATA][self.counter]\n",
    "            target = self.data[LEABL][self.counter]\n",
    "            out = self.model(input_data)\n",
    "            diff = self.loss_function(out, target)\n",
    "            diff.backward()\n",
    "            self.loss_list.append(diff.item())\n",
    "            self.optimizer.step()\n",
    "            self.counter = (self.counter + 1) % self.len_data  # repiat on data\n",
    "\n",
    "    def get_less(self) -> List[float]:\n",
    "        return self.loss_list\n"
   ]
  },
  {
   "cell_type": "markdown",
   "metadata": {
    "id": "UkgJArMp0RIP"
   },
   "source": [
    "<div dir=\"rtl\" lang=\"he\" xml:lang=\"he\">\n",
    "\n",
    "## מודל ראשון: מודל ליניארי עם שיכבה אחת `LinModel`\n",
    "נשתמש במודל הפשוט אותו בנינו,  יש לו שכבה אחת. \n",
    "זה מודל מאוד פשוט ונוכל בקלות להבין איך עובדים בו הדברים"
   ]
  },
  {
   "cell_type": "code",
   "execution_count": null,
   "metadata": {
    "id": "vz1Joqf90IDb"
   },
   "outputs": [],
   "source": [
    "class LinModel(nn.Module):\n",
    "  def __init__(self):\n",
    "    super().__init__()\n",
    "    self.f1 = nn.Linear(2,1)\n",
    "  def __call__(self,x):\n",
    "    '''Activ the function'''\n",
    "    return self.f1(x)\n",
    "  def get_parameters(self, target: str) -> ParametersType:\n",
    "    '''returns the importential parameters'''\n",
    "    return self.f1.weight.tolist(), self.f1.bias.item()\n",
    "lin_model_1 = LinModel()\n",
    "lin_model_2 = LinModel()\n",
    "lin_model_3 = LinModel()"
   ]
  },
  {
   "cell_type": "code",
   "execution_count": null,
   "metadata": {},
   "outputs": [],
   "source": [
    "\n",
    "#loss functions and optimizers\n",
    "\n",
    "sgd_lin_model_1 = optim.SGD(lin_model_1.parameters(),0.000001)\n",
    "adam_lin_model_2 = optim.Adam(lin_model_2.parameters())\n",
    "adam_lin_model_3 = optim.Adam(lin_model_3.parameters())\n",
    "\n",
    "\n",
    "mse_loss = nn.MSELoss()\n",
    "l1_loss = nn.L1Loss()"
   ]
  },
  {
   "cell_type": "code",
   "execution_count": null,
   "metadata": {},
   "outputs": [],
   "source": []
  }
 ],
 "metadata": {
  "colab": {
   "authorship_tag": "ABX9TyOQ9g/o6OsXDhEuwjkJm7Dz",
   "provenance": []
  },
  "kernelspec": {
   "display_name": "Python 3 (ipykernel)",
   "language": "python",
   "name": "python3"
  },
  "language_info": {
   "codemirror_mode": {
    "name": "ipython",
    "version": 3
   },
   "file_extension": ".py",
   "mimetype": "text/x-python",
   "name": "python",
   "nbconvert_exporter": "python",
   "pygments_lexer": "ipython3",
   "version": "3.10.2"
  },
  "vscode": {
   "interpreter": {
    "hash": "26de051ba29f2982a8de78e945f0abaf191376122a1563185a90213a26c5da77"
   }
  }
 },
 "nbformat": 4,
 "nbformat_minor": 4
}
