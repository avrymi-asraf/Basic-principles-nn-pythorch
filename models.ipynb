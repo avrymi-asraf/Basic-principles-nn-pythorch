{
 "cells": [
  {
   "attachments": {},
   "cell_type": "markdown",
   "metadata": {},
   "source": [
    "<div dir=\"rtl\" lang=\"he\" xml:lang=\"he\">\n",
    "\n",
    "#  מודלים ושכבות \n",
    "מודלים, שהם צירוף של כמה שכבות מהווים את הפונקציות אותם אנחנו רוצים לשפר. \n",
    "\n",
    "כאשר נרצה לפתח מוצר שמשתמש בבינה מלאכותית, ניצור מודל - שזה הפונקציה שתהיה המוצר הסופי, וסביב המודל כלים שיעזרו לנו לשפר את המודל."
   ]
  },
  {
   "attachments": {},
   "cell_type": "markdown",
   "metadata": {},
   "source": [
    "<div dir=\"rtl\" lang=\"he\" xml:lang=\"he\">\n",
    "\n",
    "\n",
    "## יצירת מודל\n",
    "מודל הוא שירשור של פונקציות, מורכבות ככול שיהיו, כל שיכבה היא בעצמה מודל?\n"
   ]
  },
  {
   "cell_type": "markdown",
   "metadata": {},
   "source": []
  },
  {
   "attachments": {},
   "cell_type": "markdown",
   "metadata": {},
   "source": [
    "<div dir=\"rtl\" lang=\"he\" xml:lang=\"he\">\n",
    "\n",
    "### שכבה ליניארית"
   ]
  },
  {
   "attachments": {},
   "cell_type": "markdown",
   "metadata": {},
   "source": [
    "<div dir=\"rtl\" lang=\"he\" xml:lang=\"he\">\n",
    "\n",
    "### שיכבת אקטיבציה\n"
   ]
  },
  {
   "attachments": {},
   "cell_type": "markdown",
   "metadata": {},
   "source": [
    "<div dir=\"rtl\" lang=\"he\" xml:lang=\"he\">\n",
    "\n",
    "### שיכבת הטמעה?"
   ]
  },
  {
   "attachments": {},
   "cell_type": "markdown",
   "metadata": {},
   "source": [
    "<div dir=\"rtl\" lang=\"he\" xml:lang=\"he\">\n",
    "\n",
    "### שיכבת קונבולוציה"
   ]
  },
  {
   "attachments": {},
   "cell_type": "markdown",
   "metadata": {},
   "source": [
    "<div dir=\"rtl\" lang=\"he\" xml:lang=\"he\">\n",
    "\n",
    "## הרכבת שכבות"
   ]
  },
  {
   "attachments": {},
   "cell_type": "markdown",
   "metadata": {},
   "source": [
    "<div dir=\"rtl\" lang=\"he\" xml:lang=\"he\">\n",
    "\n",
    "### הרכבת שכבות לזיהוי תמונה"
   ]
  },
  {
   "attachments": {},
   "cell_type": "markdown",
   "metadata": {},
   "source": [
    "<div dir=\"rtl\" lang=\"he\" xml:lang=\"he\">\n",
    "\n",
    "### הרכבת שכבות לעוד תפקיד?"
   ]
  },
  {
   "attachments": {},
   "cell_type": "markdown",
   "metadata": {},
   "source": [
    "<div dir=\"rtl\" lang=\"he\" xml:lang=\"he\">\n",
    "\n",
    "## יצירת מודל דרך ירושה מ`nn.models`"
   ]
  },
  {
   "attachments": {},
   "cell_type": "markdown",
   "metadata": {},
   "source": [
    "<div dir=\"rtl\" lang=\"he\" xml:lang=\"he\">\n",
    "\n",
    "##"
   ]
  },
  {
   "cell_type": "markdown",
   "metadata": {},
   "source": []
  },
  {
   "attachments": {},
   "cell_type": "markdown",
   "metadata": {},
   "source": [
    "<div dir=\"rtl\" lang=\"he\" xml:lang=\"he\">\n"
   ]
  }
 ],
 "metadata": {
  "kernelspec": {
   "display_name": "Python 3",
   "language": "python",
   "name": "python3"
  },
  "language_info": {
   "codemirror_mode": {
    "name": "ipython",
    "version": 3
   },
   "file_extension": ".py",
   "mimetype": "text/x-python",
   "name": "python",
   "nbconvert_exporter": "python",
   "pygments_lexer": "ipython3",
   "version": "3.10.2"
  },
  "orig_nbformat": 4
 },
 "nbformat": 4,
 "nbformat_minor": 2
}
